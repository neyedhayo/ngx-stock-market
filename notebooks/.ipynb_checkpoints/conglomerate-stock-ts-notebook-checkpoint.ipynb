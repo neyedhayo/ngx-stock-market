{
 "cells": [
  {
   "attachments": {},
   "cell_type": "markdown",
   "metadata": {},
   "source": [
    "# import libraries & read data"
   ]
  },
  {
   "cell_type": "code",
   "execution_count": 1,
   "metadata": {},
   "outputs": [
    {
     "name": "stderr",
     "output_type": "stream",
     "text": [
      "/home/lordmax/.virtualenvs/jupyterworld/lib/python3.10/site-packages/tqdm/auto.py:21: TqdmWarning: IProgress not found. Please update jupyter and ipywidgets. See https://ipywidgets.readthedocs.io/en/stable/user_install.html\n",
      "  from .autonotebook import tqdm as notebook_tqdm\n"
     ]
    }
   ],
   "source": [
    "import numpy as np\n",
    "import pandas as pd\n",
    "\n",
    "import math\n",
    "import random\n",
    "\n",
    "# visualization\n",
    "import seaborn as sns\n",
    "sns.set_style('darkgrid')\n",
    "\n",
    "%matplotlib inline\n",
    "import matplotlib.pyplot as plt\n",
    "from matplotlib.dates import YearLocator, DateFormatter\n",
    "import matplotlib.dates as mdates\n",
    "\n",
    "from scipy import stats\n",
    "from scipy.stats import norm\n",
    "\n",
    "from sklearn.preprocessing import MinMaxScaler\n",
    "from sklearn.model_selection import train_test_split\n",
    "from sklearn.metrics import mean_squared_error, mean_absolute_error\n",
    "\n",
    "from prophet import Prophet\n",
    "from prophet.plot import plot_plotly, plot_components_plotly"
   ]
  },
  {
   "cell_type": "code",
   "execution_count": 2,
   "metadata": {},
   "outputs": [],
   "source": [
    "datapath = 'cleaned_stock_market_data.csv'"
   ]
  },
  {
   "cell_type": "code",
   "execution_count": 3,
   "metadata": {},
   "outputs": [],
   "source": [
    "restructured_data = pd.read_csv(datapath, parse_dates=['DATE'], index_col='DATE')"
   ]
  },
  {
   "cell_type": "code",
   "execution_count": 4,
   "metadata": {},
   "outputs": [
    {
     "data": {
      "text/html": [
       "<div>\n",
       "<style scoped>\n",
       "    .dataframe tbody tr th:only-of-type {\n",
       "        vertical-align: middle;\n",
       "    }\n",
       "\n",
       "    .dataframe tbody tr th {\n",
       "        vertical-align: top;\n",
       "    }\n",
       "\n",
       "    .dataframe thead th {\n",
       "        text-align: right;\n",
       "    }\n",
       "</style>\n",
       "<table border=\"1\" class=\"dataframe\">\n",
       "  <thead>\n",
       "    <tr style=\"text-align: right;\">\n",
       "      <th></th>\n",
       "      <th>SYMBOL</th>\n",
       "      <th>CLOSEPRICE</th>\n",
       "      <th>Volume</th>\n",
       "      <th>Value</th>\n",
       "      <th>NoOfTransaction</th>\n",
       "      <th>OpenPrice</th>\n",
       "      <th>EPS</th>\n",
       "      <th>PERatio</th>\n",
       "      <th>SECTOR</th>\n",
       "    </tr>\n",
       "    <tr>\n",
       "      <th>DATE</th>\n",
       "      <th></th>\n",
       "      <th></th>\n",
       "      <th></th>\n",
       "      <th></th>\n",
       "      <th></th>\n",
       "      <th></th>\n",
       "      <th></th>\n",
       "      <th></th>\n",
       "      <th></th>\n",
       "    </tr>\n",
       "  </thead>\n",
       "  <tbody>\n",
       "    <tr>\n",
       "      <th>2003-01-03</th>\n",
       "      <td>7UP</td>\n",
       "      <td>6.00</td>\n",
       "      <td>29300.0</td>\n",
       "      <td>175314.00</td>\n",
       "      <td>11.0</td>\n",
       "      <td>0.0</td>\n",
       "      <td>3.51</td>\n",
       "      <td>1.709402</td>\n",
       "      <td>CONSUMER GOODS</td>\n",
       "    </tr>\n",
       "    <tr>\n",
       "      <th>2003-01-06</th>\n",
       "      <td>7UP</td>\n",
       "      <td>5.80</td>\n",
       "      <td>58010.0</td>\n",
       "      <td>337860.80</td>\n",
       "      <td>7.0</td>\n",
       "      <td>0.0</td>\n",
       "      <td>3.51</td>\n",
       "      <td>1.652422</td>\n",
       "      <td>CONSUMER GOODS</td>\n",
       "    </tr>\n",
       "    <tr>\n",
       "      <th>2003-01-07</th>\n",
       "      <td>7UP</td>\n",
       "      <td>6.00</td>\n",
       "      <td>34550.0</td>\n",
       "      <td>207069.00</td>\n",
       "      <td>12.0</td>\n",
       "      <td>0.0</td>\n",
       "      <td>3.51</td>\n",
       "      <td>1.709402</td>\n",
       "      <td>CONSUMER GOODS</td>\n",
       "    </tr>\n",
       "    <tr>\n",
       "      <th>2003-01-08</th>\n",
       "      <td>7UP</td>\n",
       "      <td>5.97</td>\n",
       "      <td>16013.0</td>\n",
       "      <td>95625.35</td>\n",
       "      <td>12.0</td>\n",
       "      <td>0.0</td>\n",
       "      <td>3.51</td>\n",
       "      <td>1.700855</td>\n",
       "      <td>CONSUMER GOODS</td>\n",
       "    </tr>\n",
       "    <tr>\n",
       "      <th>2003-01-09</th>\n",
       "      <td>7UP</td>\n",
       "      <td>5.87</td>\n",
       "      <td>29812.0</td>\n",
       "      <td>176483.64</td>\n",
       "      <td>13.0</td>\n",
       "      <td>0.0</td>\n",
       "      <td>3.51</td>\n",
       "      <td>1.672365</td>\n",
       "      <td>CONSUMER GOODS</td>\n",
       "    </tr>\n",
       "  </tbody>\n",
       "</table>\n",
       "</div>"
      ],
      "text/plain": [
       "           SYMBOL  CLOSEPRICE   Volume      Value  NoOfTransaction  OpenPrice  \\\n",
       "DATE                                                                            \n",
       "2003-01-03    7UP        6.00  29300.0  175314.00             11.0        0.0   \n",
       "2003-01-06    7UP        5.80  58010.0  337860.80              7.0        0.0   \n",
       "2003-01-07    7UP        6.00  34550.0  207069.00             12.0        0.0   \n",
       "2003-01-08    7UP        5.97  16013.0   95625.35             12.0        0.0   \n",
       "2003-01-09    7UP        5.87  29812.0  176483.64             13.0        0.0   \n",
       "\n",
       "             EPS   PERatio          SECTOR  \n",
       "DATE                                        \n",
       "2003-01-03  3.51  1.709402  CONSUMER GOODS  \n",
       "2003-01-06  3.51  1.652422  CONSUMER GOODS  \n",
       "2003-01-07  3.51  1.709402  CONSUMER GOODS  \n",
       "2003-01-08  3.51  1.700855  CONSUMER GOODS  \n",
       "2003-01-09  3.51  1.672365  CONSUMER GOODS  "
      ]
     },
     "execution_count": 4,
     "metadata": {},
     "output_type": "execute_result"
    }
   ],
   "source": [
    "restructured_data.head()"
   ]
  },
  {
   "attachments": {},
   "cell_type": "markdown",
   "metadata": {},
   "source": [
    "# restructuring & filtering"
   ]
  },
  {
   "cell_type": "code",
   "execution_count": 5,
   "metadata": {},
   "outputs": [],
   "source": [
    "del restructured_data['Volume']\n",
    "del restructured_data['Value']\n",
    "del restructured_data['NoOfTransaction']\n",
    "del restructured_data['OpenPrice']\n",
    "del restructured_data['EPS']\n",
    "del restructured_data['PERatio']"
   ]
  },
  {
   "cell_type": "code",
   "execution_count": 6,
   "metadata": {},
   "outputs": [
    {
     "data": {
      "text/html": [
       "<div>\n",
       "<style scoped>\n",
       "    .dataframe tbody tr th:only-of-type {\n",
       "        vertical-align: middle;\n",
       "    }\n",
       "\n",
       "    .dataframe tbody tr th {\n",
       "        vertical-align: top;\n",
       "    }\n",
       "\n",
       "    .dataframe thead th {\n",
       "        text-align: right;\n",
       "    }\n",
       "</style>\n",
       "<table border=\"1\" class=\"dataframe\">\n",
       "  <thead>\n",
       "    <tr style=\"text-align: right;\">\n",
       "      <th></th>\n",
       "      <th>SYMBOL</th>\n",
       "      <th>CLOSEPRICE</th>\n",
       "      <th>SECTOR</th>\n",
       "    </tr>\n",
       "    <tr>\n",
       "      <th>DATE</th>\n",
       "      <th></th>\n",
       "      <th></th>\n",
       "      <th></th>\n",
       "    </tr>\n",
       "  </thead>\n",
       "  <tbody>\n",
       "    <tr>\n",
       "      <th>2003-01-03</th>\n",
       "      <td>7UP</td>\n",
       "      <td>6.00</td>\n",
       "      <td>CONSUMER GOODS</td>\n",
       "    </tr>\n",
       "    <tr>\n",
       "      <th>2003-01-06</th>\n",
       "      <td>7UP</td>\n",
       "      <td>5.80</td>\n",
       "      <td>CONSUMER GOODS</td>\n",
       "    </tr>\n",
       "    <tr>\n",
       "      <th>2003-01-07</th>\n",
       "      <td>7UP</td>\n",
       "      <td>6.00</td>\n",
       "      <td>CONSUMER GOODS</td>\n",
       "    </tr>\n",
       "    <tr>\n",
       "      <th>2003-01-08</th>\n",
       "      <td>7UP</td>\n",
       "      <td>5.97</td>\n",
       "      <td>CONSUMER GOODS</td>\n",
       "    </tr>\n",
       "    <tr>\n",
       "      <th>2003-01-09</th>\n",
       "      <td>7UP</td>\n",
       "      <td>5.87</td>\n",
       "      <td>CONSUMER GOODS</td>\n",
       "    </tr>\n",
       "  </tbody>\n",
       "</table>\n",
       "</div>"
      ],
      "text/plain": [
       "           SYMBOL  CLOSEPRICE          SECTOR\n",
       "DATE                                         \n",
       "2003-01-03    7UP        6.00  CONSUMER GOODS\n",
       "2003-01-06    7UP        5.80  CONSUMER GOODS\n",
       "2003-01-07    7UP        6.00  CONSUMER GOODS\n",
       "2003-01-08    7UP        5.97  CONSUMER GOODS\n",
       "2003-01-09    7UP        5.87  CONSUMER GOODS"
      ]
     },
     "execution_count": 6,
     "metadata": {},
     "output_type": "execute_result"
    }
   ],
   "source": [
    "restructured_data.head()"
   ]
  },
  {
   "cell_type": "code",
   "execution_count": null,
   "metadata": {},
   "outputs": [],
   "source": []
  },
  {
   "cell_type": "code",
   "execution_count": 7,
   "metadata": {},
   "outputs": [
    {
     "name": "stderr",
     "output_type": "stream",
     "text": [
      "/tmp/ipykernel_269/2561585885.py:2: FutureWarning: Indexing a DataFrame with a datetimelike index using a single string to slice the rows, like `frame[string]`, is deprecated and will be removed in a future version. Use `frame.loc[string]` instead.\n",
      "  restructured_data_2023 = restructured_data['2023']\n"
     ]
    },
    {
     "name": "stdout",
     "output_type": "stream",
     "text": [
      "['CERAMIC', 'MTI', 'AMICABLE', '2NDINTERCO', 'AGIP', 'AFRIK', 'UNIC', 'DTIMES', 'NIG-GERMAN', 'UDEOFSON', 'LIZOLOFIN', 'CONFDINS', 'INTBKPREF', 'NIWICABLE', 'NIGERCEM', 'HALLBANK', 'AFEXBANK', 'AIRSERVICE', 'VONO', 'ALLIEDBANK', 'OASISINS', 'STUDPRESS', 'NTC', 'IHSNGPREF', 'ASHAKACEM', 'COSTAIN', 'CFAO', 'ONWUTEK', 'MERCANTILE', 'EPICDYNAM', 'UNIONDAC', 'WAAP', 'GUARDIANXP', 'FOREMOST', 'EVANSMED', 'STERLING', 'CRUSADER', 'MANNYBANK', 'JOSBREW', 'NIGROPES', 'MNS', 'TROPICPET', 'NIDBFUND', 'ROKANA', 'ALUMACO', 'LIONBANK', 'HIGHLAND', 'ABOSELAB', 'HALLMARK', 'NIGSEWING', 'UNTL', 'PNG', 'FIRSTINLND', 'SPRINGBANK', 'NIGLAMPS', 'WTN', 'IAINSURE', 'OKITIPUPA', 'ABPLAST', 'PROGBANK', 'FIRSTALUM', 'BCC', 'ACENINS', 'BCN', 'ASABATEXT', 'ATLANTICBK', 'POLYPROD', 'NBC', 'COOPBANK', 'RIETZCOT', 'NFINSURE', 'CHARTERED', 'AFRPAINTS', 'BAICO', 'BECOPETRO', '7UP', 'PREMBREW', 'PLATINUM', 'ENPEE', 'BEWAC', 'PAINTCOM', 'SKYEBANK', 'AFROIL', 'ABATEX', 'ADSWITCH', 'IHSPREF', 'FORTISMFB', 'LAWUNION', 'ACBINTBANK', 'FSB', 'GCAPPA', 'CAPALBETO', 'ATLAS', 'FOOTWEAR', 'IHS', 'NIYAMCO', 'NAMPAK', 'AFPRINT', 'PORTPAINT', 'INCAR', 'CHRISTLIB', 'ALPHA', 'ACB', 'IPWA', 'ADC', 'TATE', 'BIGTREAT', 'INTERCONT', 'UTB', 'ALBARKAIR', 'GULFBANK', 'FERDINAND', 'STOKVIS', 'SUNINS', 'MTECH', 'IMB', 'GNI', 'ROADS', 'BHN', 'FLEXIBLE', 'SECASSURE', 'DIAMONDBNK', 'NEWPAK', 'UNIONVENT', 'STB', 'NIGWIRE', 'BEVERAGES', 'SAVANNA', 'CONTINSURE', 'ECOBANK', 'GROMMAC', 'INTRAMOTOR', 'NTM', 'UTC', 'WESTEX', 'LIBERTY', 'WAGLASS', 'BAGCO', 'CCNN', 'TIB', 'COOPDEV', 'FIRSTCAP', '1STFINBANK', 'REGBANK', 'OLUGLASS', 'OCEANIC', 'ANINO', 'DANGFLOUR', 'TRADEBANK', 'AGLEVENT', 'INITSPLC', 'AVONCROWN', 'EKOBANK', 'MANDRID', 'KRABO', 'STARCOMMS', 'LENNARDS', 'MOBIL', 'AFRIBANK', 'MAUREEN']\n"
     ]
    }
   ],
   "source": [
    "# seperating irrelevant stocks in 2023 from the main dataset\n",
    "restructured_data_2023 = restructured_data['2023']\n",
    "\n",
    "unique_stocks_2023 = restructured_data_2023['SYMBOL'].unique() # stocks recorded in 2023\n",
    "unique_stocks_total = restructured_data['SYMBOL'].unique() # stocks recorded since 2003 to 2023\n",
    "stocks_not_in_2023 = set(unique_stocks_total) - set(unique_stocks_2023) # irrelevant stocks not in 2023\n",
    "stocks_not_in_2023_list = list(stocks_not_in_2023) # enlist all irrelevant stocks\n",
    "print(stocks_not_in_2023_list)"
   ]
  },
  {
   "cell_type": "code",
   "execution_count": 8,
   "metadata": {},
   "outputs": [
    {
     "data": {
      "text/plain": [
       "317"
      ]
     },
     "execution_count": 8,
     "metadata": {},
     "output_type": "execute_result"
    }
   ],
   "source": [
    "restructured_data['SYMBOL'].nunique()"
   ]
  },
  {
   "cell_type": "code",
   "execution_count": 9,
   "metadata": {},
   "outputs": [],
   "source": [
    "# listed irrelevant stocks to remove\n",
    "stocks_to_remove = ['STUDPRESS', 'TATE', 'INTERCONT', 'ASABATEXT', 'PNG', 'ASHAKACEM', 'ALPHA', 'ALUMACO', 'NIGROPES', 'HALLBANK', 'UNIONDAC', 'LIZOLOFIN', 'UTC', 'PORTPAINT', 'OCEANIC', 'UNIONVENT', 'AFROIL', 'ADC', 'SECASSURE', 'PAINTCOM', 'AMICABLE', '2NDINTERCO', 'GCAPPA', 'NIGERCEM', 'GULFBANK', 'LIBERTY', 'BIGTREAT', 'AFRIK', 'CAPALBETO', 'LAWUNION', 'UNTL', 'INTRAMOTOR', 'ACENINS', 'NIG-GERMAN', 'TRADEBANK', 'NEWPAK', 'TROPICPET', 'NTM', 'COOPBANK', 'LENNARDS', 'BCN', 'IMB', 'AIRSERVICE', 'FIRSTALUM', 'EPICDYNAM', 'STERLING', 'FIRSTCAP', 'WTN', 'OASISINS', 'MANDRID', 'ANINO', 'NIDBFUND', 'RIETZCOT', 'ACBINTBANK', 'BECOPETRO', 'PREMBREW', 'ABOSELAB', 'AFRIBANK', 'OKITIPUPA', 'DANGFLOUR', 'ATLAS', 'CFAO', 'DIAMONDBNK', 'MOBIL', 'NBC', 'NTC', 'WAAP', 'BEVERAGES', 'GROMMAC', 'INITSPLC', 'GUARDIANXP', 'MTI', 'ALBARKAIR', 'UTB', 'FIRSTINLND', 'AFEXBANK', 'BHN', 'LIONBANK', 'NIGSEWING', 'BAGCO', 'EKOBANK', 'NIWICABLE', 'FORTISMFB', 'BEWAC', 'SAVANNA', 'NIGLAMPS', 'OLUGLASS', 'CHRISTLIB', 'IPWA', 'KRABO', 'ALLIEDBANK', 'COOPDEV', 'CHARTERED', 'IHS', 'VONO', 'REGBANK', 'AGLEVENT', 'BCC', 'STARCOMMS', 'CONTINSURE', 'IHSPREF', '7UP', 'GNI', 'ONWUTEK', 'ACB', 'NIGWIRE', 'ROADS', 'MAUREEN', 'CERAMIC', 'STB', 'WAGLASS', 'UNIC', 'PROGBANK', 'WESTEX', 'AVONCROWN', 'DTIMES', 'SUNINS', 'MANNYBANK', 'FSB', 'CONFDINS', 'ABATEX', 'INTBKPREF', 'UDEOFSON', 'CRUSADER', 'FOREMOST', 'JOSBREW', 'NAMPAK', 'ENPEE', 'STOKVIS', 'POLYPROD', 'ROKANA', 'MNS', 'HALLMARK', 'ADSWITCH', 'SKYEBANK', 'ABPLAST', 'COSTAIN', 'HIGHLAND', 'IAINSURE', 'FERDINAND', 'SPRINGBANK', 'CCNN', 'PLATINUM', 'AFPRINT', 'MTECH', 'IHSNGPREF', 'INCAR', 'NIYAMCO', '1STFINBANK', 'FOOTWEAR', 'BAICO', 'TIB', 'ATLANTICBK', 'EVANSMED', 'ECOBANK', 'AGIP', 'FLEXIBLE', 'AFRPAINTS', 'NFINSURE', 'MERCANTILE']"
   ]
  },
  {
   "cell_type": "code",
   "execution_count": 10,
   "metadata": {},
   "outputs": [
    {
     "data": {
      "text/plain": [
       "160"
      ]
     },
     "execution_count": 10,
     "metadata": {},
     "output_type": "execute_result"
    }
   ],
   "source": [
    "len(stocks_to_remove)"
   ]
  },
  {
   "cell_type": "code",
   "execution_count": 12,
   "metadata": {},
   "outputs": [],
   "source": [
    "# relevant filtered stock data in 2023\n",
    "relevant_tsdata = restructured_data[~restructured_data['SYMBOL'].isin(stocks_to_remove)]"
   ]
  },
  {
   "cell_type": "code",
   "execution_count": 13,
   "metadata": {},
   "outputs": [
    {
     "data": {
      "text/plain": [
       "157"
      ]
     },
     "execution_count": 13,
     "metadata": {},
     "output_type": "execute_result"
    }
   ],
   "source": [
    "relevant_tsdata['SYMBOL'].nunique()"
   ]
  },
  {
   "cell_type": "code",
   "execution_count": 89,
   "metadata": {},
   "outputs": [],
   "source": [
    "relevant_tsdata.to_csv('relevant_stock_market_data.csv', index=False)"
   ]
  },
  {
   "cell_type": "code",
   "execution_count": 24,
   "metadata": {},
   "outputs": [],
   "source": [
    "# filtering for the conglomerates\n",
    "filtered_stock_data = relevant_tsdata[relevant_tsdata['SECTOR'] == 'CONGLOMERATES']"
   ]
  },
  {
   "cell_type": "code",
   "execution_count": 27,
   "metadata": {},
   "outputs": [],
   "source": [
    "del filtered_stock_data['SECTOR']"
   ]
  },
  {
   "cell_type": "code",
   "execution_count": 28,
   "metadata": {},
   "outputs": [
    {
     "data": {
      "text/html": [
       "<div>\n",
       "<style scoped>\n",
       "    .dataframe tbody tr th:only-of-type {\n",
       "        vertical-align: middle;\n",
       "    }\n",
       "\n",
       "    .dataframe tbody tr th {\n",
       "        vertical-align: top;\n",
       "    }\n",
       "\n",
       "    .dataframe thead th {\n",
       "        text-align: right;\n",
       "    }\n",
       "</style>\n",
       "<table border=\"1\" class=\"dataframe\">\n",
       "  <thead>\n",
       "    <tr style=\"text-align: right;\">\n",
       "      <th></th>\n",
       "      <th>SYMBOL</th>\n",
       "      <th>CLOSEPRICE</th>\n",
       "    </tr>\n",
       "    <tr>\n",
       "      <th>DATE</th>\n",
       "      <th></th>\n",
       "      <th></th>\n",
       "    </tr>\n",
       "  </thead>\n",
       "  <tbody>\n",
       "    <tr>\n",
       "      <th>2003-01-02</th>\n",
       "      <td>CHELLARAM</td>\n",
       "      <td>2.19</td>\n",
       "    </tr>\n",
       "    <tr>\n",
       "      <th>2003-01-03</th>\n",
       "      <td>CHELLARAM</td>\n",
       "      <td>2.19</td>\n",
       "    </tr>\n",
       "    <tr>\n",
       "      <th>2003-01-06</th>\n",
       "      <td>CHELLARAM</td>\n",
       "      <td>2.19</td>\n",
       "    </tr>\n",
       "    <tr>\n",
       "      <th>2003-01-07</th>\n",
       "      <td>CHELLARAM</td>\n",
       "      <td>2.19</td>\n",
       "    </tr>\n",
       "    <tr>\n",
       "      <th>2003-01-08</th>\n",
       "      <td>CHELLARAM</td>\n",
       "      <td>2.19</td>\n",
       "    </tr>\n",
       "    <tr>\n",
       "      <th>...</th>\n",
       "      <td>...</td>\n",
       "      <td>...</td>\n",
       "    </tr>\n",
       "    <tr>\n",
       "      <th>2023-02-22</th>\n",
       "      <td>UACN</td>\n",
       "      <td>8.90</td>\n",
       "    </tr>\n",
       "    <tr>\n",
       "      <th>2023-02-23</th>\n",
       "      <td>UACN</td>\n",
       "      <td>8.90</td>\n",
       "    </tr>\n",
       "    <tr>\n",
       "      <th>2023-02-24</th>\n",
       "      <td>UACN</td>\n",
       "      <td>9.00</td>\n",
       "    </tr>\n",
       "    <tr>\n",
       "      <th>2023-02-27</th>\n",
       "      <td>UACN</td>\n",
       "      <td>9.00</td>\n",
       "    </tr>\n",
       "    <tr>\n",
       "      <th>2023-02-28</th>\n",
       "      <td>UACN</td>\n",
       "      <td>9.00</td>\n",
       "    </tr>\n",
       "  </tbody>\n",
       "</table>\n",
       "<p>27882 rows × 2 columns</p>\n",
       "</div>"
      ],
      "text/plain": [
       "               SYMBOL  CLOSEPRICE\n",
       "DATE                             \n",
       "2003-01-02  CHELLARAM        2.19\n",
       "2003-01-03  CHELLARAM        2.19\n",
       "2003-01-06  CHELLARAM        2.19\n",
       "2003-01-07  CHELLARAM        2.19\n",
       "2003-01-08  CHELLARAM        2.19\n",
       "...               ...         ...\n",
       "2023-02-22       UACN        8.90\n",
       "2023-02-23       UACN        8.90\n",
       "2023-02-24       UACN        9.00\n",
       "2023-02-27       UACN        9.00\n",
       "2023-02-28       UACN        9.00\n",
       "\n",
       "[27882 rows x 2 columns]"
      ]
     },
     "execution_count": 28,
     "metadata": {},
     "output_type": "execute_result"
    }
   ],
   "source": [
    "filtered_stock_data"
   ]
  },
  {
   "cell_type": "code",
   "execution_count": 78,
   "metadata": {},
   "outputs": [],
   "source": [
    "# pivoting the Dataframe to the number of unique symbols\n",
    "conglomerates_tsdata = filtered_stock_data.pivot(columns='SYMBOL', values='CLOSEPRICE')\n",
    "conglomerates_tsdata = pivoted_tsdata.rename(columns={'CHELLARAM': 'CHELLARAM', 'CUSTODIAN': 'CUSTODIAN', 'JOHNHOLT': 'JOHNHOLT',\n",
    "                                        'SCOA': 'SCOA', 'TRANSCORP': 'TRANSCORP', 'UACN': 'UACN'})\n"
   ]
  },
  {
   "cell_type": "code",
   "execution_count": 79,
   "metadata": {},
   "outputs": [],
   "source": [
    "conglomerates_tsdata.fillna(0, inplace=True)"
   ]
  },
  {
   "attachments": {},
   "cell_type": "markdown",
   "metadata": {},
   "source": [
    "# preprocessing"
   ]
  },
  {
   "cell_type": "code",
   "execution_count": 80,
   "metadata": {},
   "outputs": [
    {
     "data": {
      "text/html": [
       "<div>\n",
       "<style scoped>\n",
       "    .dataframe tbody tr th:only-of-type {\n",
       "        vertical-align: middle;\n",
       "    }\n",
       "\n",
       "    .dataframe tbody tr th {\n",
       "        vertical-align: top;\n",
       "    }\n",
       "\n",
       "    .dataframe thead th {\n",
       "        text-align: right;\n",
       "    }\n",
       "</style>\n",
       "<table border=\"1\" class=\"dataframe\">\n",
       "  <thead>\n",
       "    <tr style=\"text-align: right;\">\n",
       "      <th>SYMBOL</th>\n",
       "      <th>CHELLARAM</th>\n",
       "      <th>CUSTODIAN</th>\n",
       "      <th>JOHNHOLT</th>\n",
       "      <th>SCOA</th>\n",
       "      <th>TRANSCORP</th>\n",
       "      <th>UACN</th>\n",
       "    </tr>\n",
       "    <tr>\n",
       "      <th>DATE</th>\n",
       "      <th></th>\n",
       "      <th></th>\n",
       "      <th></th>\n",
       "      <th></th>\n",
       "      <th></th>\n",
       "      <th></th>\n",
       "    </tr>\n",
       "  </thead>\n",
       "  <tbody>\n",
       "    <tr>\n",
       "      <th>2003-01-02</th>\n",
       "      <td>2.19</td>\n",
       "      <td>0.00</td>\n",
       "      <td>0.88</td>\n",
       "      <td>2.55</td>\n",
       "      <td>0.00</td>\n",
       "      <td>4.28</td>\n",
       "    </tr>\n",
       "    <tr>\n",
       "      <th>2003-01-03</th>\n",
       "      <td>2.19</td>\n",
       "      <td>0.00</td>\n",
       "      <td>0.88</td>\n",
       "      <td>2.55</td>\n",
       "      <td>0.00</td>\n",
       "      <td>4.35</td>\n",
       "    </tr>\n",
       "    <tr>\n",
       "      <th>2003-01-06</th>\n",
       "      <td>2.19</td>\n",
       "      <td>0.00</td>\n",
       "      <td>0.88</td>\n",
       "      <td>2.55</td>\n",
       "      <td>0.00</td>\n",
       "      <td>4.39</td>\n",
       "    </tr>\n",
       "    <tr>\n",
       "      <th>2003-01-07</th>\n",
       "      <td>2.19</td>\n",
       "      <td>0.00</td>\n",
       "      <td>0.88</td>\n",
       "      <td>2.55</td>\n",
       "      <td>0.00</td>\n",
       "      <td>4.49</td>\n",
       "    </tr>\n",
       "    <tr>\n",
       "      <th>2003-01-08</th>\n",
       "      <td>2.19</td>\n",
       "      <td>0.00</td>\n",
       "      <td>0.88</td>\n",
       "      <td>2.55</td>\n",
       "      <td>0.00</td>\n",
       "      <td>4.70</td>\n",
       "    </tr>\n",
       "    <tr>\n",
       "      <th>...</th>\n",
       "      <td>...</td>\n",
       "      <td>...</td>\n",
       "      <td>...</td>\n",
       "      <td>...</td>\n",
       "      <td>...</td>\n",
       "      <td>...</td>\n",
       "    </tr>\n",
       "    <tr>\n",
       "      <th>2023-02-22</th>\n",
       "      <td>1.81</td>\n",
       "      <td>6.00</td>\n",
       "      <td>1.60</td>\n",
       "      <td>1.01</td>\n",
       "      <td>1.24</td>\n",
       "      <td>8.90</td>\n",
       "    </tr>\n",
       "    <tr>\n",
       "      <th>2023-02-23</th>\n",
       "      <td>1.81</td>\n",
       "      <td>6.00</td>\n",
       "      <td>1.60</td>\n",
       "      <td>1.01</td>\n",
       "      <td>1.25</td>\n",
       "      <td>8.90</td>\n",
       "    </tr>\n",
       "    <tr>\n",
       "      <th>2023-02-24</th>\n",
       "      <td>1.81</td>\n",
       "      <td>6.00</td>\n",
       "      <td>1.76</td>\n",
       "      <td>1.01</td>\n",
       "      <td>1.30</td>\n",
       "      <td>9.00</td>\n",
       "    </tr>\n",
       "    <tr>\n",
       "      <th>2023-02-27</th>\n",
       "      <td>1.81</td>\n",
       "      <td>6.00</td>\n",
       "      <td>1.76</td>\n",
       "      <td>1.01</td>\n",
       "      <td>1.26</td>\n",
       "      <td>9.00</td>\n",
       "    </tr>\n",
       "    <tr>\n",
       "      <th>2023-02-28</th>\n",
       "      <td>1.81</td>\n",
       "      <td>5.95</td>\n",
       "      <td>1.76</td>\n",
       "      <td>1.01</td>\n",
       "      <td>1.34</td>\n",
       "      <td>9.00</td>\n",
       "    </tr>\n",
       "  </tbody>\n",
       "</table>\n",
       "<p>4992 rows × 6 columns</p>\n",
       "</div>"
      ],
      "text/plain": [
       "SYMBOL      CHELLARAM  CUSTODIAN  JOHNHOLT  SCOA  TRANSCORP  UACN\n",
       "DATE                                                             \n",
       "2003-01-02       2.19       0.00      0.88  2.55       0.00  4.28\n",
       "2003-01-03       2.19       0.00      0.88  2.55       0.00  4.35\n",
       "2003-01-06       2.19       0.00      0.88  2.55       0.00  4.39\n",
       "2003-01-07       2.19       0.00      0.88  2.55       0.00  4.49\n",
       "2003-01-08       2.19       0.00      0.88  2.55       0.00  4.70\n",
       "...               ...        ...       ...   ...        ...   ...\n",
       "2023-02-22       1.81       6.00      1.60  1.01       1.24  8.90\n",
       "2023-02-23       1.81       6.00      1.60  1.01       1.25  8.90\n",
       "2023-02-24       1.81       6.00      1.76  1.01       1.30  9.00\n",
       "2023-02-27       1.81       6.00      1.76  1.01       1.26  9.00\n",
       "2023-02-28       1.81       5.95      1.76  1.01       1.34  9.00\n",
       "\n",
       "[4992 rows x 6 columns]"
      ]
     },
     "execution_count": 80,
     "metadata": {},
     "output_type": "execute_result"
    }
   ],
   "source": [
    "conglomerates_tsdata"
   ]
  },
  {
   "cell_type": "code",
   "execution_count": 87,
   "metadata": {},
   "outputs": [
    {
     "data": {
      "image/png": "[encoded data removed]",
      "text/plain": [
       "<Figure size 1500x600 with 1 Axes>"
      ]
     },
     "metadata": {},
     "output_type": "display_data"
    }
   ],
   "source": [
    "# Plotting\n",
    "conglomerates_tsdata.plot(figsize=(15, 6))\n",
    "plt.xlabel('Year')\n",
    "plt.ylabel('Stock Price')\n",
    "plt.grid(True)\n",
    "plt.legend(title='conglomerate stocks', loc='upper right')\n",
    "plt.show()"
   ]
  },
  {
   "cell_type": "code",
   "execution_count": null,
   "metadata": {},
   "outputs": [],
   "source": []
  }
 ],
 "metadata": {
  "kernelspec": {
   "display_name": "jupyterworld",
   "language": "python",
   "name": "python3"
  },
  "language_info": {
   "codemirror_mode": {
    "name": "ipython",
    "version": 3
   },
   "file_extension": ".py",
   "mimetype": "text/x-python",
   "name": "python",
   "nbconvert_exporter": "python",
   "pygments_lexer": "ipython3",
   "version": "3.10.13"
  },
  "orig_nbformat": 4
 },
 "nbformat": 4,
 "nbformat_minor": 2
}
